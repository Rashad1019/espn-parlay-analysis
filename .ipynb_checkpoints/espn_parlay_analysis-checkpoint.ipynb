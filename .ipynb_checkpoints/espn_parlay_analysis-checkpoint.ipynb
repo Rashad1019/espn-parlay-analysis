{
  "cells": [
    {
      "cell_type": "raw",
      "metadata": {
        "vscode": {
          "languageId": "raw"
        }
      },
      "source": [
        "# ESPN Parlay Analysis\n",
        "\n",
        "This notebook analyzes player statistics and parlay data to provide insights and recommendations for parlay betting strategies.\n"
      ]
    },
    {
      "cell_type": "code",
      "execution_count": null,
      "metadata": {},
      "outputs": [],
      "source": [
        "# Import required libraries\n",
        "import pandas as pd\n",
        "import numpy as np\n",
        "\n",
        "# Load the player stats dataset\n",
        "player_stats = pd.read_csv('player_stats.csv')\n",
        "\n",
        "# Display basic information about the dataset\n",
        "print(\"Dataset Info:\")\n",
        "print(\"-\" * 50)\n",
        "player_stats.info()\n",
        "\n",
        "print(\"\\nFirst few rows of the dataset:\")\n",
        "print(\"-\" * 50)\n",
        "display(player_stats.head())\n",
        "\n",
        "print(\"\\nBasic statistics:\")\n",
        "print(\"-\" * 50)\n",
        "display(player_stats.describe())\n"
      ]
    }
  ],
  "metadata": {
    "language_info": {
      "name": "python"
    }
  },
  "nbformat": 4,
  "nbformat_minor": 2
}
